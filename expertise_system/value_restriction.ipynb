{
 "cells": [
  {
   "cell_type": "markdown",
   "metadata": {},
   "source": [
    "This notebook serves for demonstrating some capabilites of [yamplpyowl](https://github.com/cknoll/yamlpyowl). It originated from [issue #4](https://github.com/cknoll/yamlpyowl/issues/4).\n"
   ]
  },
  {
   "cell_type": "code",
   "execution_count": 1,
   "metadata": {},
   "outputs": [
    {
     "name": "stdout",
     "output_type": "stream",
     "text": [
      "- iri: http://yet.undefined.org/yamlpyowl/issue4-demo.owl\n",
      "- annotation: >\n",
      "\n",
      "    Mininal example to demonstrate some features of yamlpyowl Python package.\n",
      "    See https://github.com/cknoll/yamlpyowl/issues/4 for background information\n",
      "\n",
      "- owl_class:\n",
      "    Class1:\n",
      "        SubClassOf: \"owl:Thing\"\n",
      "\n",
      "- owl_data_property:\n",
      "    functieCode:\n",
      "        Domain: Class1\n",
      "        Range: int\n",
      "\n",
      "- owl_class:\n",
      "    Overeenkomst1:\n",
      "        # note: this makes this class a subclass of Class1 due to the domain of the property\n",
      "        SubClassOf:\n",
      "            Or:\n",
      "                - functieCode:\n",
      "                    value: 100\n",
      "                - functieCode:\n",
      "                    value: 200\n",
      "- owl_class:\n",
      "    Overeenkomst2:\n",
      "        # note: this makes this class a subclass of Class1 due to the domain of the property\n",
      "        EquivalentTo:\n",
      "            Or:\n",
      "                - functieCode:\n",
      "                    value: 100\n",
      "                - functieCode:\n",
      "                    value: 110\n",
      "\n",
      "- owl_individual:\n",
      "      instance1:\n",
      "        types:\n",
      "          - Class1\n",
      "\n",
      "- property_facts:\n",
      "    functieCode:\n",
      "        Facts:\n",
      "            - instance1:\n",
      "                - 100\n",
      "                - 110\n",
      "\n"
     ]
    }
   ],
   "source": [
    "fpath = \"./ontology_data/issue4-demo.yml\"\n",
    "with open(fpath, \"r\") as txtfile:\n",
    "    print(txtfile.read())"
   ]
  },
  {
   "cell_type": "code",
   "execution_count": 2,
   "metadata": {},
   "outputs": [],
   "source": [
    "import yamlpyowl as ypo\n",
    "om = ypo.OntologyManager(fpath)"
   ]
  },
  {
   "cell_type": "code",
   "execution_count": 3,
   "metadata": {},
   "outputs": [
    {
     "data": {
      "text/plain": [
       "'0.3.0'"
      ]
     },
     "execution_count": 3,
     "metadata": {},
     "output_type": "execute_result"
    }
   ],
   "source": [
    "# note: this version might not yet be relesed yet but is available at least in the develop branch of the repo\n",
    "ypo.__version__"
   ]
  },
  {
   "cell_type": "code",
   "execution_count": 4,
   "metadata": {},
   "outputs": [
    {
     "data": {
      "text/plain": [
       "[<<class 'owlready2.entity.ThingClass'> 'Class1'>,\n",
       " <<class 'owlready2.entity.ThingClass'> 'Overeenkomst1'>,\n",
       " <<class 'owlready2.entity.ThingClass'> 'Overeenkomst2'>]"
      ]
     },
     "execution_count": 4,
     "metadata": {},
     "output_type": "execute_result"
    }
   ],
   "source": [
    "list(om.onto.classes())"
   ]
  },
  {
   "cell_type": "markdown",
   "metadata": {},
   "source": [
    "### Gather some taxonomic information before and after running the reasoner"
   ]
  },
  {
   "cell_type": "code",
   "execution_count": 5,
   "metadata": {},
   "outputs": [
    {
     "data": {
      "text/plain": [
       "[]"
      ]
     },
     "execution_count": 5,
     "metadata": {},
     "output_type": "execute_result"
    }
   ],
   "source": [
    "list(om.onto.Overeenkomst1.instances())"
   ]
  },
  {
   "cell_type": "code",
   "execution_count": 6,
   "metadata": {},
   "outputs": [
    {
     "data": {
      "text/plain": [
       "[]"
      ]
     },
     "execution_count": 6,
     "metadata": {},
     "output_type": "execute_result"
    }
   ],
   "source": [
    "list(om.onto.Overeenkomst2.instances())"
   ]
  },
  {
   "cell_type": "code",
   "execution_count": 7,
   "metadata": {},
   "outputs": [
    {
     "data": {
      "text/plain": [
       "[]"
      ]
     },
     "execution_count": 7,
     "metadata": {},
     "output_type": "execute_result"
    }
   ],
   "source": [
    "list(om.onto.Class1.subclasses())"
   ]
  },
  {
   "cell_type": "code",
   "execution_count": 8,
   "metadata": {},
   "outputs": [],
   "source": [
    "om.sync_reasoner()"
   ]
  },
  {
   "cell_type": "code",
   "execution_count": 9,
   "metadata": {},
   "outputs": [
    {
     "data": {
      "text/plain": [
       "[]"
      ]
     },
     "execution_count": 9,
     "metadata": {},
     "output_type": "execute_result"
    }
   ],
   "source": [
    "list(om.onto.Overeenkomst1.instances())"
   ]
  },
  {
   "cell_type": "code",
   "execution_count": 10,
   "metadata": {},
   "outputs": [
    {
     "data": {
      "text/plain": [
       "[<<<class 'owlready2.entity.ThingClass'> 'Overeenkomst2'> 'instance1'>]"
      ]
     },
     "execution_count": 10,
     "metadata": {},
     "output_type": "execute_result"
    }
   ],
   "source": [
    "# the instance is reclassified as expected\n",
    "list(om.onto.Overeenkomst2.instances())"
   ]
  },
  {
   "cell_type": "code",
   "execution_count": 11,
   "metadata": {},
   "outputs": [
    {
     "data": {
      "text/plain": [
       "[<<class 'owlready2.entity.ThingClass'> 'Overeenkomst1'>,\n",
       " <<class 'owlready2.entity.ThingClass'> 'Overeenkomst2'>]"
      ]
     },
     "execution_count": 11,
     "metadata": {},
     "output_type": "execute_result"
    }
   ],
   "source": [
    "# due to the domain of the property (`Class1`) the reasoner inferes that the\n",
    "# two classes must be subclasses of that one.\n",
    "list(om.onto.Class1.subclasses())"
   ]
  },
  {
   "cell_type": "markdown",
   "metadata": {},
   "source": []
  },
  {
   "cell_type": "markdown",
   "metadata": {},
   "source": []
  },
  {
   "cell_type": "markdown",
   "metadata": {},
   "source": [
    "Below is the old content of the notebook\n",
    "\n",
    "\n",
    "---\n",
    "\n",
    "This is a proposed implementation in owlready2-based Python (used earlier to avoid misunderstanding the semantics):"
   ]
  },
  {
   "cell_type": "code",
   "execution_count": 1,
   "metadata": {},
   "outputs": [],
   "source": [
    "import owlready2 as owl2\n",
    "onto = owl2.get_ontology(\"http://test.org/onto.owl\")\n",
    "\n",
    "with onto:\n",
    "    class Class1(owl2.Thing):\n",
    "        \"\"\"\n",
    "        - owl_class:\n",
    "            Class1:\n",
    "                SubClassOf: \"owl:Thing\"\n",
    "        \"\"\"\n",
    "        pass\n",
    "\n",
    "    class functieCode(owl2.DataProperty):\n",
    "        \"\"\"\n",
    "        - owl_data_property:\n",
    "            functieCode:\n",
    "                Domain: Class1\n",
    "                Range: int \n",
    "        \"\"\"\n",
    "        \n",
    "        domain = [Class1]\n",
    "        range = [int]\n",
    "        \n",
    "        \n",
    "    # this is based on https://owlready2.readthedocs.io/en/v0.35/restriction.html\n",
    "    class Overeenkomst(owl2.Thing):\n",
    "        \"\"\"\n",
    "        - owl_class:\n",
    "            Overeenkomst:\n",
    "                SubClassOf: (functieCode value 100) or (functieCode value 110)\n",
    "        \"\"\"\n",
    "\n",
    "        # in owlready2 a SubClassOf statement would use `is_a = ...`\n",
    "        # this is syntactically correct, but does not enable the reasoner to reclassify\n",
    "        # an instance based on its data property value.\n",
    "        # thus, here we choose `equivalent_to` instead of `is_a`\n",
    "        equivalent_to = [functieCode.value(100) | functieCode.value(110)]\n",
    "\n",
    "# onto.save(\"value_restriction_test.xml\")"
   ]
  },
  {
   "cell_type": "code",
   "execution_count": 2,
   "metadata": {},
   "outputs": [],
   "source": [
    "test_instance0 = Class1(\"t0\", functieCode=[100])\n",
    "test_instance1 = Class1(\"t1\", functieCode=[110])\n",
    "test_instance2 = Class1(\"t2\", functieCode=[120])"
   ]
  },
  {
   "cell_type": "code",
   "execution_count": 3,
   "metadata": {},
   "outputs": [
    {
     "data": {
      "text/plain": [
       "[]"
      ]
     },
     "execution_count": 3,
     "metadata": {},
     "output_type": "execute_result"
    }
   ],
   "source": [
    "# evaluate the uninferred instances (there should be none)\n",
    "list(Overeenkomst.instances())"
   ]
  },
  {
   "cell_type": "code",
   "execution_count": 4,
   "metadata": {},
   "outputs": [
    {
     "data": {
      "text/plain": [
       "[]"
      ]
     },
     "execution_count": 4,
     "metadata": {},
     "output_type": "execute_result"
    }
   ],
   "source": [
    "# evaluate the uninferred subclasses (there should be none)\n",
    "list(Class1.subclasses())"
   ]
  },
  {
   "cell_type": "code",
   "execution_count": 5,
   "metadata": {},
   "outputs": [],
   "source": [
    "# run the reasoner\n",
    "owl2.sync_reasoner(infer_property_values=True, debug=False)"
   ]
  },
  {
   "cell_type": "code",
   "execution_count": 6,
   "metadata": {},
   "outputs": [
    {
     "data": {
      "text/plain": [
       "[onto.t0, onto.t1, onto.t2]"
      ]
     },
     "execution_count": 6,
     "metadata": {},
     "output_type": "execute_result"
    }
   ],
   "source": [
    "# evaluate the inferred instances (there should be two)\n",
    "list(Class1.instances())"
   ]
  },
  {
   "cell_type": "code",
   "execution_count": 7,
   "metadata": {},
   "outputs": [
    {
     "data": {
      "text/plain": [
       "[onto.Overeenkomst]"
      ]
     },
     "execution_count": 7,
     "metadata": {},
     "output_type": "execute_result"
    }
   ],
   "source": [
    "# evaluate the inferred subclasses (there should be one)\n",
    "# because the domain of `functieCode` is Class1, every instance for which that property can be defined,\n",
    "# must be an instance of Class1.\n",
    "list(Class1.subclasses())"
   ]
  }
 ],
 "metadata": {
  "kernelspec": {
   "display_name": "Python 3",
   "language": "python",
   "name": "python3"
  },
  "language_info": {
   "codemirror_mode": {
    "name": "ipython",
    "version": 3
   },
   "file_extension": ".py",
   "mimetype": "text/x-python",
   "name": "python",
   "nbconvert_exporter": "python",
   "pygments_lexer": "ipython3",
   "version": "3.8.6"
  }
 },
 "nbformat": 4,
 "nbformat_minor": 4
}

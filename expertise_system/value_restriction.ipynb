{
 "cells": [
  {
   "cell_type": "markdown",
   "metadata": {},
   "source": [
    "This is the desired YAML-Code from [the issue](https://github.com/cknoll/yamlpyowl/issues/4):\n",
    "\n",
    "```\n",
    "- owl_class:\n",
    "    Class1:\n",
    "        SubClassOf: \"owl:Thing\"\n",
    "\n",
    "- owl_data_property:\n",
    "    functieCode:\n",
    "        Domain: Class1\n",
    "        Range: int \n",
    "\n",
    "- owl_class:\n",
    "    Overeenkomst:\n",
    "        SubClassOf: (functieCode value 100) or (functieCode value 110)\n",
    "```\n",
    "\n",
    "---\n",
    "\n",
    "This is a proposed implementation in owlready2-based Python:"
   ]
  },
  {
   "cell_type": "code",
   "execution_count": 1,
   "metadata": {},
   "outputs": [],
   "source": [
    "import owlready2 as owl2\n",
    "onto = owl2.get_ontology(\"http://test.org/onto.owl\")\n",
    "\n",
    "with onto:\n",
    "    class Class1(owl2.Thing):\n",
    "        \"\"\"\n",
    "        - owl_class:\n",
    "            Class1:\n",
    "                SubClassOf: \"owl:Thing\"\n",
    "        \"\"\"\n",
    "        pass\n",
    "\n",
    "    class functieCode(owl2.DataProperty):\n",
    "        \"\"\"\n",
    "        - owl_data_property:\n",
    "            functieCode:\n",
    "                Domain: Class1\n",
    "                Range: int \n",
    "        \"\"\"\n",
    "        \n",
    "        domain = [Class1]\n",
    "        range = [int]\n",
    "        \n",
    "        \n",
    "    # this is based on https://owlready2.readthedocs.io/en/v0.35/restriction.html\n",
    "    class Overeenkomst(owl2.Thing):\n",
    "        \"\"\"\n",
    "        - owl_class:\n",
    "            Overeenkomst:\n",
    "                SubClassOf: (functieCode value 100) or (functieCode value 110)\n",
    "        \"\"\"\n",
    "\n",
    "        # in owlready2 a SubClassOf statement would use `is_a = ...`\n",
    "        # this is syntactically correct, but does not enable the reasoner to reclassify\n",
    "        # an instance based on its data property value.\n",
    "        # thus, here we choose `equivalent_to` instead of `is_a`\n",
    "        equivalent_to = [functieCode.value(100) | functieCode.value(110)]\n",
    "\n",
    "# onto.save(\"value_restriction_test.xml\")"
   ]
  },
  {
   "cell_type": "code",
   "execution_count": 2,
   "metadata": {},
   "outputs": [],
   "source": [
    "test_instance0 = Class1(\"t0\", functieCode=[100])\n",
    "test_instance1 = Class1(\"t1\", functieCode=[110])\n",
    "test_instance2 = Class1(\"t2\", functieCode=[120])"
   ]
  },
  {
   "cell_type": "code",
   "execution_count": 3,
   "metadata": {},
   "outputs": [
    {
     "data": {
      "text/plain": [
       "[]"
      ]
     },
     "execution_count": 3,
     "metadata": {},
     "output_type": "execute_result"
    }
   ],
   "source": [
    "# evaluate the uninferred instances (there should be none)\n",
    "list(Overeenkomst.instances())"
   ]
  },
  {
   "cell_type": "code",
   "execution_count": 4,
   "metadata": {},
   "outputs": [
    {
     "data": {
      "text/plain": [
       "[]"
      ]
     },
     "execution_count": 4,
     "metadata": {},
     "output_type": "execute_result"
    }
   ],
   "source": [
    "# evaluate the uninferred subclasses (there should be none)\n",
    "list(Class1.subclasses())"
   ]
  },
  {
   "cell_type": "code",
   "execution_count": 5,
   "metadata": {},
   "outputs": [],
   "source": [
    "# run the reasoner\n",
    "owl2.sync_reasoner(infer_property_values=True, debug=False)"
   ]
  },
  {
   "cell_type": "code",
   "execution_count": 6,
   "metadata": {},
   "outputs": [
    {
     "data": {
      "text/plain": [
       "[onto.t0, onto.t1, onto.t2]"
      ]
     },
     "execution_count": 6,
     "metadata": {},
     "output_type": "execute_result"
    }
   ],
   "source": [
    "# evaluate the inferred instances (there should be two)\n",
    "list(Class1.instances())"
   ]
  },
  {
   "cell_type": "code",
   "execution_count": 7,
   "metadata": {},
   "outputs": [
    {
     "data": {
      "text/plain": [
       "[onto.Overeenkomst]"
      ]
     },
     "execution_count": 7,
     "metadata": {},
     "output_type": "execute_result"
    }
   ],
   "source": [
    "# evaluate the inferred subclasses (there should be one)\n",
    "# because the domain of `functieCode` is Class1, every instance for which that property can be defined,\n",
    "# must be an instance of Class1.\n",
    "list(Class1.subclasses())"
   ]
  }
 ],
 "metadata": {
  "kernelspec": {
   "display_name": "Python 3",
   "language": "python",
   "name": "python3"
  },
  "language_info": {
   "codemirror_mode": {
    "name": "ipython",
    "version": 3
   },
   "file_extension": ".py",
   "mimetype": "text/x-python",
   "name": "python",
   "nbconvert_exporter": "python",
   "pygments_lexer": "ipython3",
   "version": "3.8.6"
  }
 },
 "nbformat": 4,
 "nbformat_minor": 4
}

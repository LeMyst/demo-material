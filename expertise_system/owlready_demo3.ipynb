{
 "cells": [
  {
   "cell_type": "markdown",
   "metadata": {},
   "source": [
    "Step 1: convert ntriples to rdf/xml.\n",
    "\n",
    "Source file: [./ontology_data/base.n3](./ontology_data/base.n3) &nbsp;&nbsp;&nbsp; (taken from <https://github.com/OMDoc/OMDoc/blob/master/owl/base.n3>)"
   ]
  },
  {
   "cell_type": "code",
   "execution_count": 1,
   "metadata": {},
   "outputs": [],
   "source": [
    "from rdflib import Graph\n",
    "import importlib\n",
    "import owlready2 as owl2\n",
    "import sys\n",
    "\n",
    "\n",
    "# source: https://github.com/OMDoc/OMDoc/blob/master/owl/base.n3\n",
    "fname = \"ontology_data/base.n3\"\n",
    "g = Graph()\n",
    "g.parse(fname)\n",
    "dest_fname = fname.replace(\".n3\", \".rdf.xml\")\n",
    "g.serialize(destination=dest_fname, format=\"xml\")\n",
    "pass"
   ]
  },
  {
   "cell_type": "markdown",
   "metadata": {},
   "source": [
    "Step 2: load this file with owlready. In about 50% of the cases this works without problems, in the other cases a `UnboundLocalError` is raised."
   ]
  },
  {
   "cell_type": "code",
   "execution_count": 2,
   "metadata": {},
   "outputs": [
    {
     "ename": "UnboundLocalError",
     "evalue": "local variable 'entity' referenced before assignment",
     "output_type": "error",
     "traceback": [
      "\u001b[0;31m---------------------------------------------------------------------------\u001b[0m",
      "\u001b[0;31mUnboundLocalError\u001b[0m                         Traceback (most recent call last)",
      "Input \u001b[0;32mIn [2]\u001b[0m, in \u001b[0;36m<module>\u001b[0;34m\u001b[0m\n\u001b[0;32m----> 1\u001b[0m onto \u001b[38;5;241m=\u001b[39m \u001b[43mowl2\u001b[49m\u001b[38;5;241;43m.\u001b[39;49m\u001b[43mget_ontology\u001b[49m\u001b[43m(\u001b[49m\u001b[43mdest_fname\u001b[49m\u001b[43m)\u001b[49m\u001b[38;5;241;43m.\u001b[39;49m\u001b[43mload\u001b[49m\u001b[43m(\u001b[49m\u001b[43m)\u001b[49m\n",
      "File \u001b[0;32m/media/workcard/workstickdir/RST/expertise_system/ontologie_experimente/owlready2_repo_parent/owlready2/namespace.py:1010\u001b[0m, in \u001b[0;36mOntology.load\u001b[0;34m(self, only_local, fileobj, reload, reload_if_newer, url, **args)\u001b[0m\n\u001b[1;32m   1007\u001b[0m \u001b[38;5;28mself\u001b[39m\u001b[38;5;241m.\u001b[39m_imported_ontologies\u001b[38;5;241m.\u001b[39m_set(imported_ontologies)\n\u001b[1;32m   1009\u001b[0m \u001b[38;5;66;03m# Search for property names -- must be done AFTER loading imported ontologies, because the properties might be partly defined in the imported ontologies\u001b[39;00m\n\u001b[0;32m-> 1010\u001b[0m \u001b[38;5;28;01mif\u001b[39;00m \u001b[38;5;28mself\u001b[39m\u001b[38;5;241m.\u001b[39mworld\u001b[38;5;241m.\u001b[39mgraph\u001b[38;5;241m.\u001b[39mindexed: \u001b[38;5;28;43mself\u001b[39;49m\u001b[38;5;241;43m.\u001b[39;49m\u001b[43m_load_properties\u001b[49m\u001b[43m(\u001b[49m\u001b[43m)\u001b[49m\n\u001b[1;32m   1012\u001b[0m \u001b[38;5;66;03m# Import Python module\u001b[39;00m\n\u001b[1;32m   1013\u001b[0m \u001b[38;5;28;01mglobal\u001b[39;00m default_world, IRIS, get_ontology\n",
      "File \u001b[0;32m/media/workcard/workstickdir/RST/expertise_system/ontologie_experimente/owlready2_repo_parent/owlready2/namespace.py:1041\u001b[0m, in \u001b[0;36mOntology._load_properties\u001b[0;34m(self)\u001b[0m\n\u001b[1;32m   1039\u001b[0m props \u001b[38;5;241m=\u001b[39m []\n\u001b[1;32m   1040\u001b[0m \u001b[38;5;28;01mfor\u001b[39;00m prop_storid \u001b[38;5;129;01min\u001b[39;00m itertools\u001b[38;5;241m.\u001b[39mchain(\u001b[38;5;28mself\u001b[39m\u001b[38;5;241m.\u001b[39m_get_obj_triples_po_s(rdf_type, owl_object_property), \u001b[38;5;28mself\u001b[39m\u001b[38;5;241m.\u001b[39m_get_obj_triples_po_s(rdf_type, owl_data_property), \u001b[38;5;28mself\u001b[39m\u001b[38;5;241m.\u001b[39m_get_obj_triples_po_s(rdf_type, owl_annotation_property)):\n\u001b[0;32m-> 1041\u001b[0m   Prop \u001b[38;5;241m=\u001b[39m \u001b[38;5;28;43mself\u001b[39;49m\u001b[38;5;241;43m.\u001b[39;49m\u001b[43mworld\u001b[49m\u001b[38;5;241;43m.\u001b[39;49m\u001b[43m_get_by_storid\u001b[49m\u001b[43m(\u001b[49m\u001b[43mprop_storid\u001b[49m\u001b[43m)\u001b[49m\n\u001b[1;32m   1042\u001b[0m   python_name_d \u001b[38;5;241m=\u001b[39m \u001b[38;5;28mself\u001b[39m\u001b[38;5;241m.\u001b[39mworld\u001b[38;5;241m.\u001b[39m_get_data_triple_sp_od(prop_storid, owlready_python_name)\n\u001b[1;32m   1044\u001b[0m   \u001b[38;5;28;01mif\u001b[39;00m \u001b[38;5;129;01mnot\u001b[39;00m \u001b[38;5;28misinstance\u001b[39m(Prop, PropertyClass):\n",
      "File \u001b[0;32m/media/workcard/workstickdir/RST/expertise_system/ontologie_experimente/owlready2_repo_parent/owlready2/namespace.py:690\u001b[0m, in \u001b[0;36mWorld._get_by_storid\u001b[0;34m(self, storid, full_iri, main_type, main_onto, trace, default_to_none)\u001b[0m\n\u001b[1;32m    687\u001b[0m \u001b[38;5;28;01mif\u001b[39;00m \u001b[38;5;129;01mnot\u001b[39;00m entity \u001b[38;5;129;01mis\u001b[39;00m \u001b[38;5;28;01mNone\u001b[39;00m: \u001b[38;5;28;01mreturn\u001b[39;00m entity\n\u001b[1;32m    689\u001b[0m \u001b[38;5;28;01mtry\u001b[39;00m:\n\u001b[0;32m--> 690\u001b[0m   \u001b[38;5;28;01mreturn\u001b[39;00m \u001b[38;5;28;43mself\u001b[39;49m\u001b[38;5;241;43m.\u001b[39;49m\u001b[43m_load_by_storid\u001b[49m\u001b[43m(\u001b[49m\u001b[43mstorid\u001b[49m\u001b[43m,\u001b[49m\u001b[43m \u001b[49m\u001b[43mfull_iri\u001b[49m\u001b[43m,\u001b[49m\u001b[43m \u001b[49m\u001b[43mmain_type\u001b[49m\u001b[43m,\u001b[49m\u001b[43m \u001b[49m\u001b[43mmain_onto\u001b[49m\u001b[43m,\u001b[49m\u001b[43m \u001b[49m\u001b[43mdefault_to_none\u001b[49m\u001b[43m)\u001b[49m\n\u001b[1;32m    691\u001b[0m \u001b[38;5;28;01mexcept\u001b[39;00m \u001b[38;5;167;01mRecursionError\u001b[39;00m:\n\u001b[1;32m    692\u001b[0m   \u001b[38;5;28;01mreturn\u001b[39;00m \u001b[38;5;28mself\u001b[39m\u001b[38;5;241m.\u001b[39m_load_by_storid(storid, full_iri, main_type, main_onto, default_to_none, ())\n",
      "File \u001b[0;32m/media/workcard/workstickdir/RST/expertise_system/ontologie_experimente/owlready2_repo_parent/owlready2/namespace.py:822\u001b[0m, in \u001b[0;36mWorld._load_by_storid\u001b[0;34m(self, storid, full_iri, main_type, main_onto, default_to_none, trace)\u001b[0m\n\u001b[1;32m    819\u001b[0m   \u001b[38;5;28;01mif\u001b[39;00m is_a_bnodes:\n\u001b[1;32m    820\u001b[0m     \u001b[38;5;28mlist\u001b[39m\u001b[38;5;241m.\u001b[39mextend(entity\u001b[38;5;241m.\u001b[39mis_a, (onto\u001b[38;5;241m.\u001b[39m_parse_bnode(bnode) \u001b[38;5;28;01mfor\u001b[39;00m onto, bnode \u001b[38;5;129;01min\u001b[39;00m is_a_bnodes))\n\u001b[0;32m--> 822\u001b[0m \u001b[38;5;28;01mreturn\u001b[39;00m \u001b[43mentity\u001b[49m\n",
      "\u001b[0;31mUnboundLocalError\u001b[0m: local variable 'entity' referenced before assignment"
     ]
    }
   ],
   "source": [
    "onto = owl2.get_ontology(dest_fname).load()"
   ]
  }
 ],
 "metadata": {
  "kernelspec": {
   "display_name": "Python 3",
   "language": "python",
   "name": "python3"
  },
  "language_info": {
   "codemirror_mode": {
    "name": "ipython",
    "version": 3
   },
   "file_extension": ".py",
   "mimetype": "text/x-python",
   "name": "python",
   "nbconvert_exporter": "python",
   "pygments_lexer": "ipython3",
   "version": "3.8.6"
  }
 },
 "nbformat": 4,
 "nbformat_minor": 4
}

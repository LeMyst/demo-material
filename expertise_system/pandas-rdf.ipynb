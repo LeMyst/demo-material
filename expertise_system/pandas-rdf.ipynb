{
 "cells": [
  {
   "cell_type": "markdown",
   "metadata": {},
   "source": [
    "This Notebook serves to answer https://stackoverflow.com/questions/70875222/how-to-create-a-knowledge-graph-from-a-pandas-dataframe-using-rdflib-library-in"
   ]
  },
  {
   "cell_type": "code",
   "execution_count": 1,
   "metadata": {},
   "outputs": [
    {
     "name": "stdout",
     "output_type": "stream",
     "text": [
      "Sat Jan 29 15:01:37 2022\n"
     ]
    }
   ],
   "source": [
    "import time\n",
    "print(time.ctime())\n",
    "%load_ext ipydex.displaytools"
   ]
  },
  {
   "cell_type": "code",
   "execution_count": 2,
   "metadata": {},
   "outputs": [
    {
     "data": {
      "text/html": [
       "<div>\n",
       "<style scoped>\n",
       "    .dataframe tbody tr th:only-of-type {\n",
       "        vertical-align: middle;\n",
       "    }\n",
       "\n",
       "    .dataframe tbody tr th {\n",
       "        vertical-align: top;\n",
       "    }\n",
       "\n",
       "    .dataframe thead th {\n",
       "        text-align: right;\n",
       "    }\n",
       "</style>\n",
       "<table border=\"1\" class=\"dataframe\">\n",
       "  <thead>\n",
       "    <tr style=\"text-align: right;\">\n",
       "      <th></th>\n",
       "      <th>source</th>\n",
       "      <th>target</th>\n",
       "      <th>edge</th>\n",
       "    </tr>\n",
       "  </thead>\n",
       "  <tbody>\n",
       "    <tr>\n",
       "      <th>0</th>\n",
       "      <td>Edwin</td>\n",
       "      <td>football</td>\n",
       "      <td>plays</td>\n",
       "    </tr>\n",
       "    <tr>\n",
       "      <th>1</th>\n",
       "      <td>Reema</td>\n",
       "      <td>karate</td>\n",
       "      <td>plays</td>\n",
       "    </tr>\n",
       "    <tr>\n",
       "      <th>2</th>\n",
       "      <td>Ron</td>\n",
       "      <td>singer</td>\n",
       "      <td>is</td>\n",
       "    </tr>\n",
       "    <tr>\n",
       "      <th>3</th>\n",
       "      <td>Tomorrow</td>\n",
       "      <td>holiday</td>\n",
       "      <td>is</td>\n",
       "    </tr>\n",
       "  </tbody>\n",
       "</table>\n",
       "</div>"
      ],
      "text/plain": [
       "df :=      source    target   edge\n",
       "0     Edwin  football  plays\n",
       "1     Reema    karate  plays\n",
       "2       Ron    singer     is\n",
       "3  Tomorrow   holiday     is"
      ]
     },
     "metadata": {},
     "output_type": "display_data"
    },
    {
     "data": {
      "text/plain": [
       "---"
      ]
     },
     "metadata": {},
     "output_type": "display_data"
    }
   ],
   "source": [
    "import pandas as pd\n",
    "from rdflib import Graph, URIRef, Namespace\n",
    "\n",
    "d = {\n",
    "    \"source\": pd.Series([\"Edwin\", \"Reema\", \"Ron\", \"Tomorrow\"]),\n",
    "    \"target\": pd.Series([\"football\", \"karate\", \"singer\", \"holiday\"]),\n",
    "    \"edge\": pd.Series([\"plays\", \"plays\", \"is\", \"is\"]),\n",
    "}\n",
    "\n",
    "df = pd.DataFrame(d) ##:"
   ]
  },
  {
   "cell_type": "markdown",
   "metadata": {},
   "source": [
    "## Creating the graph\n",
    "\n",
    "based on <https://stackoverflow.com/questions/43524943/creating-rdf-file-using-csv-file-as-input>"
   ]
  },
  {
   "cell_type": "code",
   "execution_count": 3,
   "metadata": {},
   "outputs": [
    {
     "name": "stdout",
     "output_type": "stream",
     "text": [
      "@prefix ns1: <http://example.org/foo/> .\n",
      "\n",
      "ns1:Edwin ns1:plays ns1:football .\n",
      "\n",
      "ns1:Reema ns1:plays ns1:karate .\n",
      "\n",
      "ns1:Ron ns1:is ns1:singer .\n",
      "\n",
      "ns1:Tomorrow ns1:is ns1:holiday .\n",
      "\n",
      "\n"
     ]
    }
   ],
   "source": [
    "g = Graph()\n",
    "n = Namespace('http://example.org/foo/')\n",
    "\n",
    "for inded, row in df.iterrows():\n",
    "    # add triple to rdf-graph\n",
    "    g.add((URIRef(n+row[\"source\"]), URIRef(n+row[\"edge\"]), URIRef(n+row[\"target\"])))\n",
    "\n",
    "print(g.serialize(format='turtle'))"
   ]
  },
  {
   "cell_type": "markdown",
   "metadata": {},
   "source": [
    "## Visualization\n",
    "\n",
    "based on https://stackoverflow.com/a/61483971/333403"
   ]
  },
  {
   "cell_type": "code",
   "execution_count": 4,
   "metadata": {},
   "outputs": [
    {
     "data": {
      "image/png": "[encoded data removed]",
      "text/plain": [
       "<IPython.core.display.Image object>"
      ]
     },
     "metadata": {},
     "output_type": "display_data"
    }
   ],
   "source": [
    "import io\n",
    "import pydotplus\n",
    "from IPython.display import display, Image\n",
    "from rdflib.tools.rdf2dot import rdf2dot\n",
    "\n",
    "def visualize(g):\n",
    "    stream = io.StringIO()\n",
    "    rdf2dot(g, stream, opts = {display})\n",
    "    dg = pydotplus.graph_from_dot_data(stream.getvalue())\n",
    "    png = dg.create_png()\n",
    "    display(Image(png))\n",
    "\n",
    "visualize(g)"
   ]
  }
 ],
 "metadata": {
  "kernelspec": {
   "display_name": "Python 3",
   "language": "python",
   "name": "python3"
  },
  "language_info": {
   "codemirror_mode": {
    "name": "ipython",
    "version": 3
   },
   "file_extension": ".py",
   "mimetype": "text/x-python",
   "name": "python",
   "nbconvert_exporter": "python",
   "pygments_lexer": "ipython3",
   "version": "3.8.6"
  }
 },
 "nbformat": 4,
 "nbformat_minor": 4
}

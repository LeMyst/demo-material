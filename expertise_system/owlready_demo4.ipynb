{
 "cells": [
  {
   "cell_type": "markdown",
   "metadata": {},
   "source": [
    "This notebook serves to document an error when reloading the owlready2 module due to the access to nonexisting dictionary entries."
   ]
  },
  {
   "cell_type": "code",
   "execution_count": 1,
   "metadata": {},
   "outputs": [],
   "source": [
    "import importlib\n",
    "import owlready2 as owl2"
   ]
  },
  {
   "cell_type": "code",
   "execution_count": 2,
   "metadata": {},
   "outputs": [
    {
     "data": {
      "text/plain": [
       "<module 'owlready2' from '/media/workcard/workstickdir/RST/expertise_system/ontologie_experimente/owlready2_repo_parent/owlready2/__init__.py'>"
      ]
     },
     "execution_count": 2,
     "metadata": {},
     "output_type": "execute_result"
    }
   ],
   "source": [
    "# this works:\n",
    "\n",
    "# createing dummy values for some dictionary entries\n",
    "owl2.owl_world._props[\"Property\"] = None\n",
    "owl2.owl_world._props[\"ObjectProperty\"] = None\n",
    "owl2.owl_world._props[\"DatatypeProperty\"] = None\n",
    "owl2.owl_world._props[\"FunctionalProperty\"] = None\n",
    "owl2.owl_world._props[\"InverseFunctionalProperty\"] = None\n",
    "owl2.owl_world._props[\"TransitiveProperty\"] = None\n",
    "owl2.owl_world._props[\"SymmetricProperty\"] = None\n",
    "owl2.owl_world._props[\"AsymmetricProperty\"] = None\n",
    "owl2.owl_world._props[\"ReflexiveProperty\"] = None\n",
    "owl2.owl_world._props[\"IrreflexiveProperty\"] = None\n",
    "owl2.owl_world._props[\"AnnotationProperty\"] = None\n",
    "\n",
    "importlib.reload(owl2)"
   ]
  },
  {
   "cell_type": "code",
   "execution_count": 3,
   "metadata": {},
   "outputs": [
    {
     "ename": "KeyError",
     "evalue": "'Property'",
     "output_type": "error",
     "traceback": [
      "\u001b[0;31m---------------------------------------------------------------------------\u001b[0m",
      "\u001b[0;31mKeyError\u001b[0m                                  Traceback (most recent call last)",
      "Input \u001b[0;32mIn [3]\u001b[0m, in \u001b[0;36m<module>\u001b[0;34m\u001b[0m\n\u001b[1;32m      1\u001b[0m \u001b[38;5;66;03m# this works not (key error):\u001b[39;00m\n\u001b[0;32m----> 2\u001b[0m \u001b[43mimportlib\u001b[49m\u001b[38;5;241;43m.\u001b[39;49m\u001b[43mreload\u001b[49m\u001b[43m(\u001b[49m\u001b[43mowl2\u001b[49m\u001b[43m)\u001b[49m\n",
      "File \u001b[0;32m~/miniconda3/envs/base38/lib/python3.8/importlib/__init__.py:169\u001b[0m, in \u001b[0;36mreload\u001b[0;34m(module)\u001b[0m\n\u001b[1;32m    167\u001b[0m \u001b[38;5;28;01mif\u001b[39;00m spec \u001b[38;5;129;01mis\u001b[39;00m \u001b[38;5;28;01mNone\u001b[39;00m:\n\u001b[1;32m    168\u001b[0m     \u001b[38;5;28;01mraise\u001b[39;00m \u001b[38;5;167;01mModuleNotFoundError\u001b[39;00m(\u001b[38;5;124mf\u001b[39m\u001b[38;5;124m\"\u001b[39m\u001b[38;5;124mspec not found for the module \u001b[39m\u001b[38;5;132;01m{\u001b[39;00mname\u001b[38;5;132;01m!r}\u001b[39;00m\u001b[38;5;124m\"\u001b[39m, name\u001b[38;5;241m=\u001b[39mname)\n\u001b[0;32m--> 169\u001b[0m \u001b[43m_bootstrap\u001b[49m\u001b[38;5;241;43m.\u001b[39;49m\u001b[43m_exec\u001b[49m\u001b[43m(\u001b[49m\u001b[43mspec\u001b[49m\u001b[43m,\u001b[49m\u001b[43m \u001b[49m\u001b[43mmodule\u001b[49m\u001b[43m)\u001b[49m\n\u001b[1;32m    170\u001b[0m \u001b[38;5;66;03m# The module may have replaced itself in sys.modules!\u001b[39;00m\n\u001b[1;32m    171\u001b[0m \u001b[38;5;28;01mreturn\u001b[39;00m sys\u001b[38;5;241m.\u001b[39mmodules[name]\n",
      "File \u001b[0;32m<frozen importlib._bootstrap>:604\u001b[0m, in \u001b[0;36m_exec\u001b[0;34m(spec, module)\u001b[0m\n",
      "File \u001b[0;32m<frozen importlib._bootstrap_external>:783\u001b[0m, in \u001b[0;36mexec_module\u001b[0;34m(self, module)\u001b[0m\n",
      "File \u001b[0;32m<frozen importlib._bootstrap>:219\u001b[0m, in \u001b[0;36m_call_with_frames_removed\u001b[0;34m(f, *args, **kwds)\u001b[0m\n",
      "File \u001b[0;32m/media/workcard/workstickdir/RST/expertise_system/ontologie_experimente/owlready2_repo_parent/owlready2/__init__.py:117\u001b[0m, in \u001b[0;36m<module>\u001b[0;34m\u001b[0m\n\u001b[1;32m    114\u001b[0m LOADING\u001b[38;5;241m.\u001b[39m\u001b[38;5;21m__exit__\u001b[39m()\n\u001b[1;32m    116\u001b[0m \u001b[38;5;66;03m# Not real property\u001b[39;00m\n\u001b[0;32m--> 117\u001b[0m \u001b[38;5;28;01mdel\u001b[39;00m owl_world\u001b[38;5;241m.\u001b[39m_props[\u001b[38;5;124m\"\u001b[39m\u001b[38;5;124mProperty\u001b[39m\u001b[38;5;124m\"\u001b[39m]\n\u001b[1;32m    118\u001b[0m \u001b[38;5;28;01mdel\u001b[39;00m owl_world\u001b[38;5;241m.\u001b[39m_props[\u001b[38;5;124m\"\u001b[39m\u001b[38;5;124mObjectProperty\u001b[39m\u001b[38;5;124m\"\u001b[39m]\n\u001b[1;32m    119\u001b[0m \u001b[38;5;28;01mdel\u001b[39;00m owl_world\u001b[38;5;241m.\u001b[39m_props[\u001b[38;5;124m\"\u001b[39m\u001b[38;5;124mDatatypeProperty\u001b[39m\u001b[38;5;124m\"\u001b[39m]\n",
      "\u001b[0;31mKeyError\u001b[0m: 'Property'"
     ]
    }
   ],
   "source": [
    "# this works not (KeyError):\n",
    "importlib.reload(owl2)"
   ]
  }
 ],
 "metadata": {
  "kernelspec": {
   "display_name": "Python 3",
   "language": "python",
   "name": "python3"
  },
  "language_info": {
   "codemirror_mode": {
    "name": "ipython",
    "version": 3
   },
   "file_extension": ".py",
   "mimetype": "text/x-python",
   "name": "python",
   "nbconvert_exporter": "python",
   "pygments_lexer": "ipython3",
   "version": "3.8.6"
  }
 },
 "nbformat": 4,
 "nbformat_minor": 4
}

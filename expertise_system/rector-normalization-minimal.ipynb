{
 "cells": [
  {
   "cell_type": "markdown",
   "metadata": {},
   "source": [
    "This notebook serves to support a question on stackoverflow."
   ]
  },
  {
   "cell_type": "code",
   "execution_count": 1,
   "metadata": {},
   "outputs": [
    {
     "name": "stdout",
     "output_type": "stream",
     "text": [
      "Sat Jan 29 18:02:46 2022\n"
     ]
    }
   ],
   "source": [
    "import time\n",
    "print(time.ctime())\n",
    "%load_ext ipydex.displaytools"
   ]
  },
  {
   "cell_type": "code",
   "execution_count": 2,
   "metadata": {},
   "outputs": [],
   "source": [
    "import owlready2 as owl2"
   ]
  },
  {
   "cell_type": "code",
   "execution_count": 3,
   "metadata": {},
   "outputs": [],
   "source": [
    "# rme: rector-modularization-example\n",
    "onto = owl2.get_ontology(\"https://w3id.org/yet/undefined/rme#\")\n",
    "\n",
    "with onto:\n",
    "\n",
    "    class Protein(owl2.Thing):\n",
    "        pass\n",
    "\n",
    "    class Insulin(Protein):\n",
    "        pass\n",
    "\n",
    "    class Hormone_Role(owl2.Thing):\n",
    "        pass\n",
    "\n",
    "    class plays_role(owl2.ObjectProperty):\n",
    "        pass\n",
    "\n",
    "\n",
    "    class Protein_Hormone(owl2.Thing):\n",
    "        equivalent_to = [Protein & plays_role.some(Hormone_Role)]\n"
   ]
  },
  {
   "cell_type": "code",
   "execution_count": 4,
   "metadata": {},
   "outputs": [],
   "source": [
    "Insulin.is_a.append(plays_role.some(Hormone_Role))"
   ]
  },
  {
   "cell_type": "markdown",
   "metadata": {},
   "source": [
    "### List relevant sub and superclasses *before* running the reasoner:"
   ]
  },
  {
   "cell_type": "code",
   "execution_count": 5,
   "metadata": {},
   "outputs": [
    {
     "data": {
      "text/plain": [
       "protein_subclasses := [rme.Insulin]"
      ]
     },
     "metadata": {},
     "output_type": "display_data"
    },
    {
     "data": {
      "text/plain": [
       "---"
      ]
     },
     "metadata": {},
     "output_type": "display_data"
    },
    {
     "data": {
      "text/plain": [
       "superclasses := [rme.Protein, rme.plays_role.some(rme.Hormone_Role)]"
      ]
     },
     "metadata": {},
     "output_type": "display_data"
    },
    {
     "data": {
      "text/plain": [
       "---"
      ]
     },
     "metadata": {},
     "output_type": "display_data"
    }
   ],
   "source": [
    "protein_subclasses = list(Protein.subclasses()) ##:\n",
    "\n",
    "superclasses = Insulin.is_a ##:"
   ]
  },
  {
   "cell_type": "code",
   "execution_count": 6,
   "metadata": {},
   "outputs": [],
   "source": [
    "# save the ontology and check results with protegé\n",
    "target_path = \"rector-modularization-asserted-minimal.owl\"\n",
    "onto.save(target_path, format=\"rdfxml\")"
   ]
  },
  {
   "cell_type": "markdown",
   "metadata": {},
   "source": [
    "### Run reasoner"
   ]
  },
  {
   "cell_type": "code",
   "execution_count": 7,
   "metadata": {},
   "outputs": [
    {
     "name": "stderr",
     "output_type": "stream",
     "text": [
      "* Owlready2 * Running HermiT...\n",
      "    java -Xmx2000M -cp /media/workcard/workstickdir/RST/expertise_system/ontologie_experimente/owlready2_cvk_fork/owlready2/hermit:/media/workcard/workstickdir/RST/expertise_system/ontologie_experimente/owlready2_cvk_fork/owlready2/hermit/HermiT.jar org.semanticweb.HermiT.cli.CommandLine -c -O -D -I file:////tmp/tmpv4rve23z -Y\n",
      "* Owlready2 * HermiT took 0.7144069671630859 seconds\n",
      "* Owlready * Reparenting rme.Insulin: {rme.Protein} => {rme.Protein_Hormone}\n",
      "* Owlready * Reparenting rme.Protein_Hormone: {owl.Thing} => {rme.Protein}\n",
      "* Owlready * (NB: only changes on entities loaded in Python are shown, other changes are done but not listed)\n"
     ]
    }
   ],
   "source": [
    "owl2.sync_reasoner_hermit(infer_property_values=True, debug=1)"
   ]
  },
  {
   "cell_type": "markdown",
   "metadata": {},
   "source": [
    "### List relevant sub and superclasses *after* running the reasoner:"
   ]
  },
  {
   "cell_type": "code",
   "execution_count": 8,
   "metadata": {},
   "outputs": [
    {
     "data": {
      "text/plain": [
       "protein_subclasses := [rme.Insulin, rme.Protein_Hormone]"
      ]
     },
     "metadata": {},
     "output_type": "display_data"
    },
    {
     "data": {
      "text/plain": [
       "---"
      ]
     },
     "metadata": {},
     "output_type": "display_data"
    },
    {
     "data": {
      "text/plain": [
       "insulin_superclasses := [rme.plays_role.some(rme.Hormone_Role), rme.Protein_Hormone]"
      ]
     },
     "metadata": {},
     "output_type": "display_data"
    },
    {
     "data": {
      "text/plain": [
       "---"
      ]
     },
     "metadata": {},
     "output_type": "display_data"
    }
   ],
   "source": [
    "protein_subclasses = list(Protein.subclasses()) ##:\n",
    "\n",
    "insulin_superclasses = Insulin.is_a ##:"
   ]
  },
  {
   "cell_type": "markdown",
   "metadata": {},
   "source": [
    "### Observation:\n",
    "\n",
    "having `Insulin` as a *direct subclass* of `Protein` after reasoning is unexpected (see \"Reparenting rme.Insulin: {rme.Protein} => {rme.Protein_Hormone}\" in output above). This is the inferred class hierarchy obtained from Protegé:\n",
    "\n",
    "![protegé output](rector-modularization-asserted-minimal-protege.png \"protegé output\")"
   ]
  }
 ],
 "metadata": {
  "kernelspec": {
   "display_name": "Python 3",
   "language": "python",
   "name": "python3"
  },
  "language_info": {
   "codemirror_mode": {
    "name": "ipython",
    "version": 3
   },
   "file_extension": ".py",
   "mimetype": "text/x-python",
   "name": "python",
   "nbconvert_exporter": "python",
   "pygments_lexer": "ipython3",
   "version": "3.8.6"
  }
 },
 "nbformat": 4,
 "nbformat_minor": 4
}

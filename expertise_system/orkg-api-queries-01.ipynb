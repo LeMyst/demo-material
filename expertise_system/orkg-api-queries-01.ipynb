{
 "cells": [
  {
   "cell_type": "markdown",
   "metadata": {},
   "source": [
    "This Notebook is a simple example for getting-started with the API access to the [Open Research Knowldege Graph](https://www.orkg.org/orkg/)\n",
    "\n",
    "- https://www.orkg.org/orkg/help-center/article/24/Data_Access\n",
    "- https://www.orkg.org/orkg/data\n",
    "- https://www.orkg.org/orkg/doc/api/#overview\n",
    "- https://orkg.readthedocs.io/en/latest/introduction.html (Python package used here)\n"
   ]
  },
  {
   "cell_type": "code",
   "execution_count": 1,
   "metadata": {},
   "outputs": [],
   "source": [
    "# install the package from PyPI\n",
    "# !pip install orkg"
   ]
  },
  {
   "cell_type": "code",
   "execution_count": 2,
   "metadata": {},
   "outputs": [
    {
     "name": "stdout",
     "output_type": "stream",
     "text": [
      "Tue Dec 21 13:43:42 2021\n"
     ]
    }
   ],
   "source": [
    "import time\n",
    "print(time.ctime())\n",
    "# optional extension for explanatory comments ##:\n",
    "%load_ext ipydex.displaytools"
   ]
  },
  {
   "cell_type": "code",
   "execution_count": 3,
   "metadata": {},
   "outputs": [],
   "source": [
    "from orkg import ORKG\n",
    "import configparser"
   ]
  },
  {
   "cell_type": "code",
   "execution_count": 4,
   "metadata": {},
   "outputs": [],
   "source": [
    "config = configparser.ConfigParser()\n",
    "config.read('config_data/orkg.ini')\n",
    "cf = config[\"DEFAULT\"]"
   ]
  },
  {
   "cell_type": "code",
   "execution_count": 5,
   "metadata": {},
   "outputs": [],
   "source": [
    "connector = ORKG(host=\"https://www.orkg.org/orkg\", creds=(cf[\"email\"], cf[\"password\"]))"
   ]
  },
  {
   "cell_type": "code",
   "execution_count": 6,
   "metadata": {},
   "outputs": [
    {
     "data": {
      "text/plain": [
       "True"
      ]
     },
     "execution_count": 6,
     "metadata": {},
     "output_type": "execute_result"
    }
   ],
   "source": [
    "r = connector.resources.get()\n",
    "r.succeeded"
   ]
  },
  {
   "cell_type": "code",
   "execution_count": 7,
   "metadata": {},
   "outputs": [
    {
     "data": {
      "text/plain": [
       "info((r.content)) := \"<class 'list'> with length: 20\""
      ]
     },
     "metadata": {},
     "output_type": "display_data"
    },
    {
     "data": {
      "text/plain": [
       "---"
      ]
     },
     "metadata": {},
     "output_type": "display_data"
    }
   ],
   "source": [
    "r.content ##:i"
   ]
  },
  {
   "cell_type": "code",
   "execution_count": 8,
   "metadata": {},
   "outputs": [
    {
     "data": {
      "text/plain": [
       "{'id': 'R0',\n",
       " 'label': \"Gruber's design of ontologies\",\n",
       " 'created_at': '2019-01-06T15:04:07.692Z',\n",
       " 'classes': [],\n",
       " 'shared': 1,\n",
       " 'created_by': '00000000-0000-0000-0000-000000000000',\n",
       " '_class': 'resource',\n",
       " 'observatory_id': '00000000-0000-0000-0000-000000000000',\n",
       " 'extraction_method': 'UNKNOWN',\n",
       " 'organization_id': '00000000-0000-0000-0000-000000000000'}"
      ]
     },
     "execution_count": 8,
     "metadata": {},
     "output_type": "execute_result"
    }
   ],
   "source": [
    "r.content[0]"
   ]
  }
 ],
 "metadata": {
  "kernelspec": {
   "display_name": "Python 3",
   "language": "python",
   "name": "python3"
  },
  "language_info": {
   "codemirror_mode": {
    "name": "ipython",
    "version": 3
   },
   "file_extension": ".py",
   "mimetype": "text/x-python",
   "name": "python",
   "nbconvert_exporter": "python",
   "pygments_lexer": "ipython3",
   "version": "3.8.6"
  }
 },
 "nbformat": 4,
 "nbformat_minor": 4
}

{
 "cells": [
  {
   "cell_type": "code",
   "execution_count": 1,
   "metadata": {},
   "outputs": [
    {
     "name": "stdout",
     "output_type": "stream",
     "text": [
      "Thu Dec 16 11:43:42 2021\n"
     ]
    }
   ],
   "source": [
    "import time\n",
    "print(time.ctime())\n",
    "%load_ext ipydex.displaytools"
   ]
  },
  {
   "cell_type": "code",
   "execution_count": 2,
   "metadata": {},
   "outputs": [],
   "source": [
    "import sympy as sp\n",
    "\n",
    "s, t = sp.symbols(\"s, t\")"
   ]
  },
  {
   "cell_type": "markdown",
   "metadata": {},
   "source": [
    "# Constructing the Desired Velocity Profile (for $x$)\n",
    "\n",
    "- starting and stopping with $\\dot s = 0$\n",
    "- maximum not in the middle (optional)"
   ]
  },
  {
   "cell_type": "code",
   "execution_count": 3,
   "metadata": {},
   "outputs": [
    {
     "data": {
      "text/latex": [
       "(sdot) := $\\displaystyle \\sin{\\left(\\pi t \\right)}$"
      ],
      "text/plain": [
       "(sdot) := sin(pi*t)"
      ]
     },
     "metadata": {},
     "output_type": "display_data"
    },
    {
     "data": {
      "text/plain": [
       "---"
      ]
     },
     "metadata": {},
     "output_type": "display_data"
    },
    {
     "data": {
      "image/png": "[encoded data removed]",
      "text/plain": [
       "<Figure size 432x288 with 1 Axes>"
      ]
     },
     "metadata": {
      "needs_background": "light"
     },
     "output_type": "display_data"
    },
    {
     "data": {
      "text/plain": [
       "<sympy.plotting.plot.Plot at 0x7f1b5dcc9310>"
      ]
     },
     "execution_count": 3,
     "metadata": {},
     "output_type": "execute_result"
    }
   ],
   "source": [
    "z = sp.pi*t\n",
    "\n",
    "# Amplitude of cos\n",
    "q = sp.Rational(0.5)\n",
    "\n",
    "# sdot = 1 # constant velocity\n",
    "sdot = sp.sin(z) # starting and stopping with 0\n",
    "# sdot = sp.sin(z)*(1+q*sp.cos(2*z)) # starting and stopping with 0 and reducing maximum in the middle\n",
    "sdot ##:\n",
    "\n",
    "sp.plot(sdot, (t, 0, 1))"
   ]
  },
  {
   "cell_type": "code",
   "execution_count": 4,
   "metadata": {},
   "outputs": [
    {
     "data": {
      "text/latex": [
       "s := $\\displaystyle - \\frac{\\cos{\\left(\\pi t \\right)}}{\\pi}$"
      ],
      "text/plain": [
       "s := -cos(pi*t)/pi"
      ]
     },
     "metadata": {},
     "output_type": "display_data"
    },
    {
     "data": {
      "text/plain": [
       "---"
      ]
     },
     "metadata": {},
     "output_type": "display_data"
    },
    {
     "data": {
      "text/latex": [
       "s := $\\displaystyle \\frac{\\pi \\left(- \\frac{\\cos{\\left(\\pi t \\right)}}{\\pi} + \\frac{1}{\\pi}\\right)}{2}$"
      ],
      "text/plain": [
       "s := pi*(-cos(pi*t)/pi + 1/pi)/2"
      ]
     },
     "metadata": {},
     "output_type": "display_data"
    },
    {
     "data": {
      "text/plain": [
       "---"
      ]
     },
     "metadata": {},
     "output_type": "display_data"
    }
   ],
   "source": [
    "s = sp.integrate(sdot, t) ##:\n",
    "\n",
    "# adjust integration constant (s should start at 0):\n",
    "s -= s.subs(t, 0)\n",
    "\n",
    "# adjust scale (s should end at 1):\n",
    "s = s/s.subs(t, 1) ##:"
   ]
  },
  {
   "cell_type": "code",
   "execution_count": 5,
   "metadata": {},
   "outputs": [
    {
     "data": {
      "image/png": "[encoded data removed]",
      "text/plain": [
       "<Figure size 432x288 with 1 Axes>"
      ]
     },
     "metadata": {
      "needs_background": "light"
     },
     "output_type": "display_data"
    },
    {
     "data": {
      "text/plain": [
       "<sympy.plotting.plot.Plot at 0x7f1b517d6760>"
      ]
     },
     "execution_count": 5,
     "metadata": {},
     "output_type": "execute_result"
    }
   ],
   "source": [
    "sp.plot(s, (t, 0, 1))"
   ]
  },
  {
   "cell_type": "markdown",
   "metadata": {},
   "source": [
    "# Constructing the Path"
   ]
  },
  {
   "cell_type": "code",
   "execution_count": 6,
   "metadata": {},
   "outputs": [],
   "source": [
    "x0 = 2\n",
    "x1 = 3\n",
    "\n",
    "y0 = 0\n",
    "y1 = -1"
   ]
  },
  {
   "cell_type": "code",
   "execution_count": 7,
   "metadata": {},
   "outputs": [
    {
     "data": {
      "text/plain": [
       "sol := {a0: -28, a1: 36, a2: -15, a3: 2}"
      ]
     },
     "metadata": {},
     "output_type": "display_data"
    },
    {
     "data": {
      "text/plain": [
       "---"
      ]
     },
     "metadata": {},
     "output_type": "display_data"
    }
   ],
   "source": [
    "aa = a0, a1, a2, a3 = sp.symbols(\"a0, a1, a2, a3\")\n",
    "xs = sp.symbols(\"x\")\n",
    "poly =  a3 * xs**3 + a2*xs**2 + a1*xs + a0\n",
    "\n",
    "\n",
    "# formulate the conditions as \"=0\"-equations (all terms on one side)\n",
    "conditions = [\n",
    "    poly.subs(xs, x0) - y0,\n",
    "    poly.diff(xs).subs(xs, x0) - 0,\n",
    "    poly.subs(xs, x1) - y1,\n",
    "    poly.diff(xs).subs(xs, x1) - 0\n",
    "]\n",
    "\n",
    "sol = sp.solve(conditions, aa) ##:\n",
    "\n",
    "\n"
   ]
  },
  {
   "cell_type": "code",
   "execution_count": 8,
   "metadata": {},
   "outputs": [
    {
     "data": {
      "text/latex": [
       "path := $\\displaystyle \\left[\\begin{matrix}\\frac{\\pi \\left(- \\frac{\\cos{\\left(\\pi t \\right)}}{\\pi} + \\frac{1}{\\pi}\\right)}{2} + 2\\\\18 \\pi \\left(- \\frac{\\cos{\\left(\\pi t \\right)}}{\\pi} + \\frac{1}{\\pi}\\right) + 2 \\left(\\frac{\\pi \\left(- \\frac{\\cos{\\left(\\pi t \\right)}}{\\pi} + \\frac{1}{\\pi}\\right)}{2} + 2\\right)^{3} - 15 \\left(\\frac{\\pi \\left(- \\frac{\\cos{\\left(\\pi t \\right)}}{\\pi} + \\frac{1}{\\pi}\\right)}{2} + 2\\right)^{2} + 44\\end{matrix}\\right]$"
      ],
      "text/plain": [
       "path := Matrix([\n",
       "[                                                                                     pi*(-cos(pi*t)/pi + 1/pi)/2 + 2],\n",
       "[18*pi*(-cos(pi*t)/pi + 1/pi) + 2*(pi*(-cos(pi*t)/pi + 1/pi)/2 + 2)**3 - 15*(pi*(-cos(pi*t)/pi + 1/pi)/2 + 2)**2 + 44]])"
      ]
     },
     "metadata": {},
     "output_type": "display_data"
    },
    {
     "data": {
      "text/plain": [
       "---"
      ]
     },
     "metadata": {},
     "output_type": "display_data"
    }
   ],
   "source": [
    "x_expr = x0*(1-s) + x1*s\n",
    "y_expr = (a3 * x_expr**3 + a2*x_expr**2 + a1*x_expr + a0).subs(sol)\n",
    "\n",
    "path = sp.Matrix([x_expr, y_expr]) ##:"
   ]
  },
  {
   "cell_type": "code",
   "execution_count": 9,
   "metadata": {},
   "outputs": [
    {
     "data": {
      "text/latex": [
       "v_expr := $\\displaystyle \\sqrt{\\left(3 \\pi \\left(\\frac{\\pi \\left(- \\frac{\\cos{\\left(\\pi t \\right)}}{\\pi} + \\frac{1}{\\pi}\\right)}{2} + 2\\right)^{2} \\sin{\\left(\\pi t \\right)} - 15 \\pi \\left(\\frac{\\pi \\left(- \\frac{\\cos{\\left(\\pi t \\right)}}{\\pi} + \\frac{1}{\\pi}\\right)}{2} + 2\\right) \\sin{\\left(\\pi t \\right)} + 18 \\pi \\sin{\\left(\\pi t \\right)}\\right)^{2} + \\frac{\\pi^{2} \\sin^{2}{\\left(\\pi t \\right)}}{4}}$"
      ],
      "text/plain": [
       "v_expr := sqrt((3*pi*(pi*(-cos(pi*t)/pi + 1/pi)/2 + 2)**2*sin(pi*t) - 15*pi*(pi*(-cos(pi*t)/pi + 1/pi)/2 + 2)*sin(pi*t) + 18*pi*sin(pi*t))**2 + pi**2*sin(pi*t)**2/4)"
      ]
     },
     "metadata": {},
     "output_type": "display_data"
    },
    {
     "data": {
      "text/plain": [
       "---"
      ]
     },
     "metadata": {},
     "output_type": "display_data"
    }
   ],
   "source": [
    "v_expr = sp.sqrt(x_expr.diff(t)**2 + y_expr.diff(t)**2) ##:"
   ]
  },
  {
   "cell_type": "code",
   "execution_count": 10,
   "metadata": {},
   "outputs": [
    {
     "data": {
      "image/png": "[encoded data removed]",
      "text/plain": [
       "<Figure size 432x288 with 1 Axes>"
      ]
     },
     "metadata": {
      "needs_background": "light"
     },
     "output_type": "display_data"
    },
    {
     "data": {
      "text/plain": [
       "<sympy.plotting.plot.Plot at 0x7f1b5175eac0>"
      ]
     },
     "execution_count": 10,
     "metadata": {},
     "output_type": "execute_result"
    }
   ],
   "source": [
    "sp.plot(v_expr, (t, 0, 1))"
   ]
  },
  {
   "cell_type": "code",
   "execution_count": 11,
   "metadata": {},
   "outputs": [
    {
     "data": {
      "text/latex": [
       "$\\displaystyle 58.9048622548086 \\left(\\left(\\left(1 - 0.2 \\cos{\\left(\\pi t \\right)}\\right)^{2} \\sin{\\left(\\pi t \\right)} - 0.8 \\left(2.5 - 0.5 \\cos{\\left(\\pi t \\right)}\\right) \\sin{\\left(\\pi t \\right)} + 0.96 \\sin{\\left(\\pi t \\right)}\\right)^{2} + 0.000711111111111111 \\sin^{2}{\\left(\\pi t \\right)}\\right)^{0.5}$"
      ],
      "text/plain": [
       "58.9048622548086*(((1 - 0.2*cos(pi*t))**2*sin(pi*t) - 0.8*(2.5 - 0.5*cos(pi*t))*sin(pi*t) + 0.96*sin(pi*t))**2 + 0.000711111111111111*sin(pi*t)**2)**0.5"
      ]
     },
     "execution_count": 11,
     "metadata": {},
     "output_type": "execute_result"
    }
   ],
   "source": [
    "v_expr.evalf()"
   ]
  }
 ],
 "metadata": {
  "kernelspec": {
   "display_name": "Python 3",
   "language": "python",
   "name": "python3"
  },
  "language_info": {
   "codemirror_mode": {
    "name": "ipython",
    "version": 3
   },
   "file_extension": ".py",
   "mimetype": "text/x-python",
   "name": "python",
   "nbconvert_exporter": "python",
   "pygments_lexer": "ipython3",
   "version": "3.8.6"
  }
 },
 "nbformat": 4,
 "nbformat_minor": 4
}
